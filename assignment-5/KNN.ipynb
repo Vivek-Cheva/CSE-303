{
  "nbformat": 4,
  "nbformat_minor": 0,
  "metadata": {
    "colab": {
      "provenance": []
    },
    "kernelspec": {
      "name": "python3",
      "display_name": "Python 3"
    },
    "language_info": {
      "name": "python"
    }
  },
  "cells": [
    {
      "cell_type": "code",
      "execution_count": 2,
      "metadata": {
        "id": "obZadoNEscy2"
      },
      "outputs": [],
      "source": []
    },
    {
      "cell_type": "code",
      "source": [
        "import numpy as np\n",
        "import pandas as pd\n",
        "from sklearn.model_selection import train_test_split\n",
        "import matplotlib.pyplot as plt\n",
        "from collections import Counter\n",
        "\n",
        "# Load the Iris dataset\n",
        "data = pd.read_csv('iris.csv')\n",
        "\n",
        "# Preview the first few data points\n",
        "print(\"First 5 data points:\")\n",
        "print(data.head())\n",
        "\n",
        "# Separate features and target variable\n",
        "features = data[[\"Sepal.Length\", \"Sepal.Width\", \"Petal.Length\", \"Petal.Width\"]].values\n",
        "target = data[\"Species\"].values\n",
        "\n",
        "# Split data into training and testing sets (70% training, 30% testing)\n",
        "X_train, X_test, y_train, y_test = train_test_split(features, target, test_size=0.3, random_state=1)\n",
        "\n",
        "# Function to calculate Euclidean distance between two points\n",
        "def euclidean_distance(x1, x2):\n",
        "    return np.sqrt(np.sum((x1 - x2) ** 2))\n",
        "\n",
        "# K-NN classifier function\n",
        "def knn_classifier(X_train, y_train, X_test, k):\n",
        "    predictions = []\n",
        "\n",
        "    # Iterate over each test sample\n",
        "    for test_point in X_test:\n",
        "        distances = []\n",
        "\n",
        "        # Calculate the distance between test_point and all training points\n",
        "        for i in range(len(X_train)):\n",
        "            dist = euclidean_distance(test_point, X_train[i])\n",
        "            distances.append((dist, y_train[i]))\n",
        "\n",
        "        # Sort the distances and take the k nearest neighbors\n",
        "        distances.sort(key=lambda x: x[0])\n",
        "        k_nearest_neighbors = distances[:k]\n",
        "\n",
        "        # Find the most common class label among the neighbors\n",
        "        k_nearest_labels = [label for (_, label) in k_nearest_neighbors]\n",
        "        most_common = Counter(k_nearest_labels).most_common(1)[0][0]\n",
        "\n",
        "        # Append the predicted class\n",
        "        predictions.append(most_common)\n",
        "\n",
        "    return np.array(predictions)\n",
        "\n",
        "# Function to calculate accuracy\n",
        "def accuracy_score(y_true, y_pred):\n",
        "    return np.sum(y_true == y_pred) / len(y_true)\n",
        "\n",
        "# Function to create a confusion matrix\n",
        "def confusion_matrix(y_true, y_pred):\n",
        "    unique_labels = np.unique(y_true)\n",
        "    conf_matrix = np.zeros((len(unique_labels), len(unique_labels)), dtype=int)\n",
        "\n",
        "    label_to_index = {label: index for index, label in enumerate(unique_labels)}\n",
        "\n",
        "    for true, pred in zip(y_true, y_pred):\n",
        "        conf_matrix[label_to_index[true]][label_to_index[pred]] += 1\n",
        "\n",
        "    return conf_matrix, unique_labels\n",
        "\n",
        "# Test the K-NN classifier for different values of k\n",
        "k_values = range(1, 26)\n",
        "accuracies = []\n",
        "\n",
        "for k in k_values:\n",
        "    y_pred = knn_classifier(X_train, y_train, X_test, k)\n",
        "    acc = accuracy_score(y_test, y_pred)\n",
        "    accuracies.append(acc)\n",
        "# Plot the curve for K vs Accuracy\n",
        "plt.plot(k_values, accuracies, marker='o')\n",
        "plt.title('K vs Accuracy')\n",
        "plt.xlabel('K')\n",
        "plt.ylabel('Accuracy')\n",
        "plt.show()\n",
        "\n",
        "# Find the value of k with maximum accuracy\n",
        "best_k = k_values[np.argmax(accuracies)]\n",
        "print(f\"\\nBest K value: {best_k} with accuracy {max(accuracies):.4f}\")\n",
        "\n",
        "# Make predictions using the best K value\n",
        "best_predictions = knn_classifier(X_train, y_train, X_test, best_k)\n",
        "\n",
        "# Calculate the accuracy for the best K\n",
        "final_accuracy = accuracy_score(y_test, best_predictions)\n",
        "print(f\"Final Accuracy with k={best_k}: {final_accuracy:.4f}\")\n",
        "\n",
        "# Generate and print the confusion matrix\n",
        "conf_matrix, labels = confusion_matrix(y_test, best_predictions)\n",
        "print(\"\\nConfusion Matrix:\")\n",
        "print(conf_matrix)\n",
        "print(f\"\\nLabels: {labels}\")\n"
      ],
      "metadata": {
        "colab": {
          "base_uri": "https://localhost:8080/",
          "height": 767
        },
        "id": "yAR01VVdsqsH",
        "outputId": "a974a42b-a496-4a0d-ac6c-96be83a35425"
      },
      "execution_count": 4,
      "outputs": [
        {
          "output_type": "stream",
          "name": "stdout",
          "text": [
            "First 5 data points:\n",
            "   Sepal.Length  Sepal.Width  Petal.Length  Petal.Width Species\n",
            "0           5.1          3.5           1.4          0.2  setosa\n",
            "1           4.9          3.0           1.4          0.2  setosa\n",
            "2           4.7          3.2           1.3          0.2  setosa\n",
            "3           4.6          3.1           1.5          0.2  setosa\n",
            "4           5.0          3.6           1.4          0.2  setosa\n"
          ]
        },
        {
          "output_type": "display_data",
          "data": {
            "text/plain": [
              "<Figure size 640x480 with 1 Axes>"
            ],
            "image/png": "[encoded data removed]"
          },
          "metadata": {}
        },
        {
          "output_type": "stream",
          "name": "stdout",
          "text": [
            "\n",
            "Best K value: 1 with accuracy 0.9778\n",
            "Final Accuracy with k=1: 0.9778\n",
            "\n",
            "Confusion Matrix:\n",
            "[[14  0  0]\n",
            " [ 0 18  0]\n",
            " [ 0  1 12]]\n",
            "\n",
            "Labels: ['setosa' 'versicolor' 'virginica']\n"
          ]
        }
      ]
    },
    {
      "cell_type": "code",
      "source": [],
      "metadata": {
        "id": "5VZ1DOuMvwQ7"
      },
      "execution_count": null,
      "outputs": []
    }
  ]
}
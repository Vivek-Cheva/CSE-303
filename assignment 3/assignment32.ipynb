{
  "cells": [
    {
      "cell_type": "code",
      "execution_count": 9,
      "metadata": {
        "id": "BxZ9nahLsO_h"
      },
      "outputs": [],
      "source": [
        "import numpy as np\n",
        "x = np.random.rand(15)\n",
        "y = np.random.rand(15)\n",
        "x_mean = x.sum()/len(x)\n",
        "y_mean = y.sum()/len(y)\n",
        "\n",
        "cov_xy = ((x-x_mean)*(y-y_mean)).sum()/len(x)\n",
        "\n",
        "print(\"value of covariance: \",cov_xy)"
      ]
    },
    {
      "cell_type": "code",
      "execution_count": 10,
      "metadata": {
        "id": "sjW5mKFqsiO4"
      },
      "outputs": [],
      "source": []
    },
    {
      "cell_type": "code",
      "execution_count": 11,
      "metadata": {
        "colab": {
          "base_uri": "https://localhost:8080/"
        },
        "id": "hAHiU4XEsnVi",
        "outputId": "399cdda0-0956-42ec-9fc8-8ba132da8be4"
      },
      "outputs": [
        {
          "name": "stdout",
          "output_type": "stream",
          "text": [
            "value of covariance:  0.014514546912018998\n"
          ]
        }
      ],
      "source": [
        "\n"
      ]
    },
    {
      "cell_type": "code",
      "execution_count": null,
      "metadata": {
        "id": "XW-Gz5YOsoMx"
      },
      "outputs": [],
      "source": []
    }
  ],
  "metadata": {
    "colab": {
      "provenance": []
    },
    "kernelspec": {
      "display_name": "Python 3",
      "name": "python3"
    },
    "language_info": {
      "name": "python"
    }
  },
  "nbformat": 4,
  "nbformat_minor": 0
}

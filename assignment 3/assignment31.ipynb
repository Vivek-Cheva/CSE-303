{
  "cells": [
    {
      "cell_type": "code",
      "execution_count": 1,
      "metadata": {
        "id": "BxZ9nahLsO_h"
      },
      "outputs": [],
      "source": [
        "import numpy as np\n",
        "x = [1,2,3,4,5,6,7,8,9,0,10,11,12,1,3]\n",
        "x = np.array(x)\n",
        "x_mean = x.sum()/len(x)\n",
        "x_var = ((x-x_mean)**2).sum()/(len(x)-1)\n",
        "print(\"value of mean: \",x_mean)\n",
        "print(\"value of variance: \",x_var)"
      ]
    },
    {
      "cell_type": "code",
      "execution_count": 5,
      "metadata": {
        "id": "sjW5mKFqsiO4"
      },
      "outputs": [],
      "source": []
    },
    {
      "cell_type": "code",
      "execution_count": 6,
      "metadata": {
        "colab": {
          "base_uri": "https://localhost:8080/"
        },
        "id": "hAHiU4XEsnVi",
        "outputId": "22d75fe4-9aec-43fc-b155-b5c714294d0b"
      },
      "outputs": [
        {
          "name": "stdout",
          "output_type": "stream",
          "text": [
            "value of mean:  5.466666666666667\n",
            "value of variance:  15.123809523809523\n"
          ]
        }
      ],
      "source": []
    },
    {
      "cell_type": "code",
      "execution_count": null,
      "metadata": {
        "id": "XW-Gz5YOsoMx"
      },
      "outputs": [],
      "source": []
    }
  ],
  "metadata": {
    "colab": {
      "provenance": []
    },
    "kernelspec": {
      "display_name": "Python 3",
      "name": "python3"
    },
    "language_info": {
      "name": "python"
    }
  },
  "nbformat": 4,
  "nbformat_minor": 0
}

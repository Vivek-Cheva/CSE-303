{
  "cells": [
    {
      "cell_type": "code",
      "execution_count": 9,
      "metadata": {
        "id": "BxZ9nahLsO_h"
      },
      "outputs": [],
      "source": [
        "import numpy as np\n",
        "x = np.random.rand(15)\n",
        "y = np.random.rand(15)\n"
      ]
    },
    {
      "cell_type": "code",
      "execution_count": 13,
      "metadata": {
        "id": "sjW5mKFqsiO4"
      },
      "outputs": [],
      "source": [
        "x_mean = x.sum()/len(x)\n",
        "y_mean = y.sum()/len(y)\n",
        "var_x = ((x-x_mean)**2).sum()/len(x)\n",
        "var_y = ((y-y_mean)**2).sum()/len(y)\n",
        "cov_xy = ((x-x_mean)*(y-y_mean)).sum()/len(x)"
      ]
    },
    {
      "cell_type": "code",
      "execution_count": 14,
      "metadata": {
        "colab": {
          "base_uri": "https://localhost:8080/"
        },
        "id": "hAHiU4XEsnVi",
        "outputId": "169e20cd-a6bb-44cb-dbc2-2d99e2b83dca"
      },
      "outputs": [
        {
          "name": "stdout",
          "output_type": "stream",
          "text": [
            "value of Correlation:  0.2204490127986666\n"
          ]
        }
      ],
      "source": [
        "Correlation = cov_xy/(np.sqrt(var_x*var_y))\n",
        "print(\"value of Correlation: \",Correlation)\n"
      ]
    },
    {
      "cell_type": "code",
      "execution_count": null,
      "metadata": {
        "id": "XW-Gz5YOsoMx"
      },
      "outputs": [],
      "source": []
    }
  ],
  "metadata": {
    "colab": {
      "provenance": []
    },
    "kernelspec": {
      "display_name": "Python 3",
      "name": "python3"
    },
    "language_info": {
      "name": "python"
    }
  },
  "nbformat": 4,
  "nbformat_minor": 0
}

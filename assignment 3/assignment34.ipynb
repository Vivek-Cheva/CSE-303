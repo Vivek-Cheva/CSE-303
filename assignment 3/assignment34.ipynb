{
  "nbformat": 4,
  "nbformat_minor": 0,
  "metadata": {
    "colab": {
      "provenance": []
    },
    "kernelspec": {
      "name": "python3",
      "display_name": "Python 3"
    },
    "language_info": {
      "name": "python"
    }
  },
  "cells": [
    {
      "cell_type": "code",
      "execution_count": 1,
      "metadata": {
        "colab": {
          "base_uri": "https://localhost:8080/"
        },
        "id": "U3uRFBt3oKep",
        "outputId": "daa67903-6742-4017-96d3-c9aed99a8f63"
      },
      "outputs": [
        {
          "output_type": "stream",
          "name": "stdout",
          "text": [
            "Feature Matrix (MxN):\n",
            " [[0.97817753 0.49009388 0.93214415 0.84513248 0.55299694 0.68207088\n",
            "  0.48544455 0.10100476 0.65971707 0.51421371]\n",
            " [0.40562402 0.3594495  0.46569182 0.80472503 0.10489484 0.97176288\n",
            "  0.26115687 0.80430917 0.42443916 0.85327006]\n",
            " [0.26770648 0.44942865 0.22415949 0.58066906 0.72268463 0.05598473\n",
            "  0.31476124 0.03886854 0.19693251 0.03194323]\n",
            " [0.64286537 0.50816666 0.99694289 0.59680269 0.01667485 0.05413015\n",
            "  0.49969341 0.97750649 0.40885093 0.88839354]\n",
            " [0.25814883 0.61215818 0.13111194 0.42167891 0.1904364  0.87887533\n",
            "  0.43315575 0.1835827  0.29267908 0.90770827]]\n",
            "\n",
            "Covariance Matrix (MxM):\n",
            " [[ 0.06685432 -0.00777009  0.01370563 -0.00701976 -0.00722621]\n",
            " [-0.00777009  0.08453237 -0.0418362   0.02678335  0.04530128]\n",
            " [ 0.01370563 -0.0418362   0.05506929 -0.03576951 -0.02300943]\n",
            " [-0.00701976  0.02678335 -0.03576951  0.11795115 -0.01965851]\n",
            " [-0.00722621  0.04530128 -0.02300943 -0.01965851  0.07986468]]\n",
            "\n",
            "Correlation Matrix (MxM):\n",
            " [[ 1.         -0.10335931  0.22588093 -0.07905085 -0.09889367]\n",
            " [-0.10335931  1.         -0.61317719  0.26822688  0.5513427 ]\n",
            " [ 0.22588093 -0.61317719  1.         -0.44382028 -0.34695551]\n",
            " [-0.07905085  0.26822688 -0.44382028  1.         -0.20254528]\n",
            " [-0.09889367  0.5513427  -0.34695551 -0.20254528  1.        ]]\n"
          ]
        }
      ],
      "source": [
        "import numpy as np\n",
        "\n",
        "def generate_feature_matrix(M, N):\n",
        "    return np.random.rand(M, N)\n",
        "\n",
        "def compute_covariance_matrix(feature_matrix):\n",
        "    return np.cov(feature_matrix)\n",
        "\n",
        "def compute_correlation_matrix(covariance_matrix):\n",
        "\n",
        "    std_dev = np.sqrt(np.diag(covariance_matrix))\n",
        "    correlation_matrix = covariance_matrix / np.outer(std_dev, std_dev)\n",
        "    np.fill_diagonal(correlation_matrix, 1)\n",
        "    return correlation_matrix\n",
        "\n",
        "# Example usage\n",
        "M = 5  # Number of features\n",
        "N = 10  # Number of samples\n",
        "\n",
        "feature_matrix = generate_feature_matrix(M, N)\n",
        "\n",
        "cov_matrix = compute_covariance_matrix(feature_matrix)\n",
        "\n",
        "corr_matrix = compute_correlation_matrix(cov_matrix)\n",
        "\n",
        "\n",
        "print(\"Feature Matrix (MxN):\\n\", feature_matrix)\n",
        "print(\"\\nCovariance Matrix (MxM):\\n\", cov_matrix)\n",
        "print(\"\\nCorrelation Matrix (MxM):\\n\", corr_matrix)\n"
      ]
    },
    {
      "cell_type": "code",
      "source": [],
      "metadata": {
        "id": "tnWw-87NoSvc"
      },
      "execution_count": null,
      "outputs": []
    }
  ]
}